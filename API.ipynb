{
 "cells": [
  {
   "cell_type": "markdown",
   "metadata": {},
   "source": [
    "# Install dependencies before running"
   ]
  },
  {
   "cell_type": "code",
   "execution_count": null,
   "metadata": {},
   "outputs": [
    {
     "name": "stdout",
     "output_type": "stream",
     "text": [
      " * Serving Flask app \"__main__\" (lazy loading)\n",
      " * Environment: production\n",
      "\u001b[31m   WARNING: This is a development server. Do not use it in a production deployment.\u001b[0m\n",
      "\u001b[2m   Use a production WSGI server instead.\u001b[0m\n",
      " * Debug mode: on\n"
     ]
    },
    {
     "name": "stderr",
     "output_type": "stream",
     "text": [
      " * Running on http://127.0.0.1:1234/ (Press CTRL+C to quit)\n",
      "127.0.0.1 - - [15/Aug/2020 16:49:27] \"\u001b[37mPOST /ocr/eng HTTP/1.1\u001b[0m\" 200 -\n",
      "127.0.0.1 - - [15/Aug/2020 16:50:45] \"\u001b[37mPOST /ocr/eng HTTP/1.1\u001b[0m\" 200 -\n"
     ]
    }
   ],
   "source": [
    "import os\n",
    "from flask import Flask,request,redirect\n",
    "from PIL import Image\n",
    "import pytesseract\n",
    "import random\n",
    "\n",
    "app = Flask(__name__)\n",
    "\n",
    "\n",
    "@app.route(\"/\",methods=[\"GET\"])\n",
    "def index():\n",
    "    return \"OK ! sahilucoe@hotmail.com\"\n",
    "\n",
    "@app.route(\"/ocr/<lang>\",methods=[\"POST\"])\n",
    "def ocr(lang):\n",
    "    image= request.files[\"image\"]\n",
    "    number = random.randint(0,9999)\n",
    "    name = image.name + str(number)\n",
    "    image.save(name)\n",
    "    output = pytesseract.image_to_string(Image.open(name),lang=lang)\n",
    "    os.remove(name)\n",
    "    return output\n",
    "\n",
    "if __name__ == \"__main__\":\n",
    "    app.run(debug=False,port=1234,use_reloader=False)"
   ]
  },
  {
   "cell_type": "code",
   "execution_count": null,
   "metadata": {},
   "outputs": [],
   "source": []
  },
  {
   "cell_type": "code",
   "execution_count": null,
   "metadata": {},
   "outputs": [],
   "source": []
  },
  {
   "cell_type": "code",
   "execution_count": null,
   "metadata": {},
   "outputs": [],
   "source": []
  }
 ],
 "metadata": {
  "kernelspec": {
   "display_name": "Python 3",
   "language": "python",
   "name": "python3"
  },
  "language_info": {
   "codemirror_mode": {
    "name": "ipython",
    "version": 3
   },
   "file_extension": ".py",
   "mimetype": "text/x-python",
   "name": "python",
   "nbconvert_exporter": "python",
   "pygments_lexer": "ipython3",
   "version": "3.8.5"
  }
 },
 "nbformat": 4,
 "nbformat_minor": 4
}
